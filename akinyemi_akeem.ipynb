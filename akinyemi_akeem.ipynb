{
 "cells": [
  {
   "cell_type": "code",
   "execution_count": 1,
   "id": "09eeb339-a8cc-4cc1-923d-0da126640372",
   "metadata": {},
   "outputs": [
    {
     "name": "stderr",
     "output_type": "stream",
     "text": [
      "C:\\Users\\akiny\\AppData\\Local\\Temp\\ipykernel_3724\\1300646331.py:4: DtypeWarning: Columns (6) have mixed types. Specify dtype option on import or set low_memory=False.\n",
      "  dt=pd.read_csv(url)\n"
     ]
    },
    {
     "data": {
      "text/html": [
       "<div>\n",
       "<style scoped>\n",
       "    .dataframe tbody tr th:only-of-type {\n",
       "        vertical-align: middle;\n",
       "    }\n",
       "\n",
       "    .dataframe tbody tr th {\n",
       "        vertical-align: top;\n",
       "    }\n",
       "\n",
       "    .dataframe thead th {\n",
       "        text-align: right;\n",
       "    }\n",
       "</style>\n",
       "<table border=\"1\" class=\"dataframe\">\n",
       "  <thead>\n",
       "    <tr style=\"text-align: right;\">\n",
       "      <th></th>\n",
       "      <th>country</th>\n",
       "      <th>year</th>\n",
       "      <th>country_code</th>\n",
       "      <th>record</th>\n",
       "      <th>crop_land</th>\n",
       "      <th>grazing_land</th>\n",
       "      <th>forest_land</th>\n",
       "      <th>fishing_ground</th>\n",
       "      <th>built_up_land</th>\n",
       "      <th>carbon</th>\n",
       "      <th>total</th>\n",
       "      <th>QScore</th>\n",
       "    </tr>\n",
       "  </thead>\n",
       "  <tbody>\n",
       "    <tr>\n",
       "      <th>0</th>\n",
       "      <td>Armenia</td>\n",
       "      <td>1992</td>\n",
       "      <td>1</td>\n",
       "      <td>AreaPerCap</td>\n",
       "      <td>0.140292</td>\n",
       "      <td>0.199546</td>\n",
       "      <td>0.097188051</td>\n",
       "      <td>0.036888</td>\n",
       "      <td>0.029320</td>\n",
       "      <td>0.000000</td>\n",
       "      <td>5.032351e-01</td>\n",
       "      <td>3A</td>\n",
       "    </tr>\n",
       "    <tr>\n",
       "      <th>1</th>\n",
       "      <td>Armenia</td>\n",
       "      <td>1992</td>\n",
       "      <td>1</td>\n",
       "      <td>AreaTotHA</td>\n",
       "      <td>483000.000000</td>\n",
       "      <td>687000.000000</td>\n",
       "      <td>334600</td>\n",
       "      <td>127000.000000</td>\n",
       "      <td>100943.000800</td>\n",
       "      <td>0.000000</td>\n",
       "      <td>1.732543e+06</td>\n",
       "      <td>3A</td>\n",
       "    </tr>\n",
       "    <tr>\n",
       "      <th>2</th>\n",
       "      <td>Armenia</td>\n",
       "      <td>1992</td>\n",
       "      <td>1</td>\n",
       "      <td>BiocapPerCap</td>\n",
       "      <td>0.159804</td>\n",
       "      <td>0.135261</td>\n",
       "      <td>0.084003213</td>\n",
       "      <td>0.013742</td>\n",
       "      <td>0.033398</td>\n",
       "      <td>0.000000</td>\n",
       "      <td>4.262086e-01</td>\n",
       "      <td>3A</td>\n",
       "    </tr>\n",
       "    <tr>\n",
       "      <th>3</th>\n",
       "      <td>Armenia</td>\n",
       "      <td>1992</td>\n",
       "      <td>1</td>\n",
       "      <td>BiocapTotGHA</td>\n",
       "      <td>550176.242700</td>\n",
       "      <td>465677.972200</td>\n",
       "      <td>289207.1078</td>\n",
       "      <td>47311.551720</td>\n",
       "      <td>114982.279300</td>\n",
       "      <td>0.000000</td>\n",
       "      <td>1.467355e+06</td>\n",
       "      <td>3A</td>\n",
       "    </tr>\n",
       "    <tr>\n",
       "      <th>4</th>\n",
       "      <td>Armenia</td>\n",
       "      <td>1992</td>\n",
       "      <td>1</td>\n",
       "      <td>EFConsPerCap</td>\n",
       "      <td>0.387510</td>\n",
       "      <td>0.189462</td>\n",
       "      <td>1.26E-06</td>\n",
       "      <td>0.004165</td>\n",
       "      <td>0.033398</td>\n",
       "      <td>1.114093</td>\n",
       "      <td>1.728629e+00</td>\n",
       "      <td>3A</td>\n",
       "    </tr>\n",
       "  </tbody>\n",
       "</table>\n",
       "</div>"
      ],
      "text/plain": [
       "   country  year  country_code        record      crop_land   grazing_land  \\\n",
       "0  Armenia  1992             1    AreaPerCap       0.140292       0.199546   \n",
       "1  Armenia  1992             1     AreaTotHA  483000.000000  687000.000000   \n",
       "2  Armenia  1992             1  BiocapPerCap       0.159804       0.135261   \n",
       "3  Armenia  1992             1  BiocapTotGHA  550176.242700  465677.972200   \n",
       "4  Armenia  1992             1  EFConsPerCap       0.387510       0.189462   \n",
       "\n",
       "   forest_land  fishing_ground  built_up_land    carbon         total QScore  \n",
       "0  0.097188051        0.036888       0.029320  0.000000  5.032351e-01     3A  \n",
       "1       334600   127000.000000  100943.000800  0.000000  1.732543e+06     3A  \n",
       "2  0.084003213        0.013742       0.033398  0.000000  4.262086e-01     3A  \n",
       "3  289207.1078    47311.551720  114982.279300  0.000000  1.467355e+06     3A  \n",
       "4     1.26E-06        0.004165       0.033398  1.114093  1.728629e+00     3A  "
      ]
     },
     "execution_count": 1,
     "metadata": {},
     "output_type": "execute_result"
    }
   ],
   "source": [
    "import pandas as pd\n",
    "import numpy as np\n",
    "url=r\"C:\\Users\\akiny\\Downloads\\NFA 2019 public_data.csv\"\n",
    "dt=pd.read_csv(url)\n",
    "dt.head()"
   ]
  },
  {
   "cell_type": "code",
   "execution_count": 2,
   "id": "ec0c249d-91f4-4f19-8f46-915b170f2b74",
   "metadata": {},
   "outputs": [
    {
     "data": {
      "text/plain": [
       "country               0\n",
       "year                  0\n",
       "country_code          0\n",
       "record                0\n",
       "crop_land         20472\n",
       "grazing_land      20472\n",
       "forest_land       20472\n",
       "fishing_ground    20473\n",
       "built_up_land     20473\n",
       "carbon            20473\n",
       "total                 9\n",
       "QScore                1\n",
       "dtype: int64"
      ]
     },
     "execution_count": 2,
     "metadata": {},
     "output_type": "execute_result"
    }
   ],
   "source": [
    "dt.isnull().sum()"
   ]
  },
  {
   "cell_type": "code",
   "execution_count": 3,
   "id": "9c230eed-0b7e-459c-9020-762ac3b5ce92",
   "metadata": {},
   "outputs": [
    {
     "data": {
      "text/plain": [
       "(72186, 12)"
      ]
     },
     "execution_count": 3,
     "metadata": {},
     "output_type": "execute_result"
    }
   ],
   "source": [
    "dt.shape"
   ]
  },
  {
   "cell_type": "code",
   "execution_count": 4,
   "id": "ecbaaa22-07fc-451b-a129-2002b21f7fa3",
   "metadata": {},
   "outputs": [
    {
     "data": {
      "text/plain": [
       "3A    51481\n",
       "2A    10576\n",
       "2B    10096\n",
       "1A       16\n",
       "1B       16\n",
       "Name: QScore, dtype: int64"
      ]
     },
     "execution_count": 4,
     "metadata": {},
     "output_type": "execute_result"
    }
   ],
   "source": [
    "dt['QScore'].value_counts()"
   ]
  },
  {
   "cell_type": "code",
   "execution_count": 5,
   "id": "74d2d2c0-233f-46b9-9813-1ecd108b9b7d",
   "metadata": {},
   "outputs": [],
   "source": [
    "ndt=dt.dropna()"
   ]
  },
  {
   "cell_type": "code",
   "execution_count": 6,
   "id": "820a7102-72d4-4bc0-8ef6-1a2ac8ea8973",
   "metadata": {},
   "outputs": [
    {
     "data": {
      "text/plain": [
       "3A    51473\n",
       "2A      224\n",
       "1A       16\n",
       "Name: QScore, dtype: int64"
      ]
     },
     "execution_count": 6,
     "metadata": {},
     "output_type": "execute_result"
    }
   ],
   "source": [
    "ndt['QScore'].value_counts()"
   ]
  },
  {
   "cell_type": "code",
   "execution_count": 7,
   "id": "3a34d346-e2bd-49c5-ac44-8e0ae0499057",
   "metadata": {},
   "outputs": [
    {
     "data": {
      "text/plain": [
       "<AxesSubplot:>"
      ]
     },
     "execution_count": 7,
     "metadata": {},
     "output_type": "execute_result"
    },
    {
     "data": {
      "image/png": "[encoded data removed]",
      "text/plain": [
       "<Figure size 640x480 with 1 Axes>"
      ]
     },
     "metadata": {},
     "output_type": "display_data"
    }
   ],
   "source": [
    "ndt['QScore'].hist()"
   ]
  },
  {
   "cell_type": "code",
   "execution_count": 8,
   "id": "78f82854-1928-46f1-9053-b08be3619e71",
   "metadata": {},
   "outputs": [
    {
     "name": "stderr",
     "output_type": "stream",
     "text": [
      "C:\\Users\\akiny\\AppData\\Local\\Temp\\ipykernel_3724\\2799800976.py:3: FutureWarning: The frame.append method is deprecated and will be removed from pandas in a future version. Use pandas.concat instead.\n",
      "  dt_n=dt_2a.append(dt_3a)\n"
     ]
    },
    {
     "data": {
      "text/html": [
       "<div>\n",
       "<style scoped>\n",
       "    .dataframe tbody tr th:only-of-type {\n",
       "        vertical-align: middle;\n",
       "    }\n",
       "\n",
       "    .dataframe tbody tr th {\n",
       "        vertical-align: top;\n",
       "    }\n",
       "\n",
       "    .dataframe thead th {\n",
       "        text-align: right;\n",
       "    }\n",
       "</style>\n",
       "<table border=\"1\" class=\"dataframe\">\n",
       "  <thead>\n",
       "    <tr style=\"text-align: right;\">\n",
       "      <th></th>\n",
       "      <th>country</th>\n",
       "      <th>year</th>\n",
       "      <th>country_code</th>\n",
       "      <th>record</th>\n",
       "      <th>crop_land</th>\n",
       "      <th>grazing_land</th>\n",
       "      <th>forest_land</th>\n",
       "      <th>fishing_ground</th>\n",
       "      <th>built_up_land</th>\n",
       "      <th>carbon</th>\n",
       "      <th>total</th>\n",
       "      <th>QScore</th>\n",
       "    </tr>\n",
       "  </thead>\n",
       "  <tbody>\n",
       "    <tr>\n",
       "      <th>0</th>\n",
       "      <td>Moldova</td>\n",
       "      <td>1995</td>\n",
       "      <td>146</td>\n",
       "      <td>BiocapTotGHA</td>\n",
       "      <td>3.906375e+06</td>\n",
       "      <td>2.627887e+05</td>\n",
       "      <td>283526.1171</td>\n",
       "      <td>3.410414e+04</td>\n",
       "      <td>232558.016200</td>\n",
       "      <td>0.000000e+00</td>\n",
       "      <td>4.719352e+06</td>\n",
       "      <td>3A</td>\n",
       "    </tr>\n",
       "    <tr>\n",
       "      <th>1</th>\n",
       "      <td>Zimbabwe</td>\n",
       "      <td>1989</td>\n",
       "      <td>181</td>\n",
       "      <td>AreaPerCap</td>\n",
       "      <td>2.999230e-01</td>\n",
       "      <td>1.008327e+00</td>\n",
       "      <td>2.242948735</td>\n",
       "      <td>3.948482e-02</td>\n",
       "      <td>0.041973</td>\n",
       "      <td>0.000000e+00</td>\n",
       "      <td>3.632656e+00</td>\n",
       "      <td>3A</td>\n",
       "    </tr>\n",
       "    <tr>\n",
       "      <th>2</th>\n",
       "      <td>Chad</td>\n",
       "      <td>2010</td>\n",
       "      <td>39</td>\n",
       "      <td>BiocapPerCap</td>\n",
       "      <td>5.394200e-01</td>\n",
       "      <td>1.212984e+00</td>\n",
       "      <td>0.456603429</td>\n",
       "      <td>7.669503e-02</td>\n",
       "      <td>0.072878</td>\n",
       "      <td>0.000000e+00</td>\n",
       "      <td>2.358581e+00</td>\n",
       "      <td>3A</td>\n",
       "    </tr>\n",
       "    <tr>\n",
       "      <th>3</th>\n",
       "      <td>Norway</td>\n",
       "      <td>1964</td>\n",
       "      <td>162</td>\n",
       "      <td>EFConsTotGHA</td>\n",
       "      <td>2.307844e+06</td>\n",
       "      <td>2.191187e+06</td>\n",
       "      <td>4789697.476</td>\n",
       "      <td>1.135163e+07</td>\n",
       "      <td>128658.983000</td>\n",
       "      <td>5.797655e+06</td>\n",
       "      <td>2.656667e+07</td>\n",
       "      <td>3A</td>\n",
       "    </tr>\n",
       "    <tr>\n",
       "      <th>4</th>\n",
       "      <td>Chad</td>\n",
       "      <td>1990</td>\n",
       "      <td>39</td>\n",
       "      <td>EFProdTotGHA</td>\n",
       "      <td>1.538896e+06</td>\n",
       "      <td>5.253695e+06</td>\n",
       "      <td>2181887.84</td>\n",
       "      <td>1.081099e+05</td>\n",
       "      <td>143179.822000</td>\n",
       "      <td>4.863320e+04</td>\n",
       "      <td>9.274402e+06</td>\n",
       "      <td>3A</td>\n",
       "    </tr>\n",
       "  </tbody>\n",
       "</table>\n",
       "</div>"
      ],
      "text/plain": [
       "    country  year  country_code        record     crop_land  grazing_land  \\\n",
       "0   Moldova  1995           146  BiocapTotGHA  3.906375e+06  2.627887e+05   \n",
       "1  Zimbabwe  1989           181    AreaPerCap  2.999230e-01  1.008327e+00   \n",
       "2      Chad  2010            39  BiocapPerCap  5.394200e-01  1.212984e+00   \n",
       "3    Norway  1964           162  EFConsTotGHA  2.307844e+06  2.191187e+06   \n",
       "4      Chad  1990            39  EFProdTotGHA  1.538896e+06  5.253695e+06   \n",
       "\n",
       "   forest_land  fishing_ground  built_up_land        carbon         total  \\\n",
       "0  283526.1171    3.410414e+04  232558.016200  0.000000e+00  4.719352e+06   \n",
       "1  2.242948735    3.948482e-02       0.041973  0.000000e+00  3.632656e+00   \n",
       "2  0.456603429    7.669503e-02       0.072878  0.000000e+00  2.358581e+00   \n",
       "3  4789697.476    1.135163e+07  128658.983000  5.797655e+06  2.656667e+07   \n",
       "4   2181887.84    1.081099e+05  143179.822000  4.863320e+04  9.274402e+06   \n",
       "\n",
       "  QScore  \n",
       "0     3A  \n",
       "1     3A  \n",
       "2     3A  \n",
       "3     3A  \n",
       "4     3A  "
      ]
     },
     "execution_count": 8,
     "metadata": {},
     "output_type": "execute_result"
    }
   ],
   "source": [
    "dt_2a=ndt[ndt.QScore=='2A']\n",
    "dt_3a=ndt[ndt.QScore=='3A'].sample(350)\n",
    "dt_n=dt_2a.append(dt_3a)\n",
    "import sklearn.utils as st\n",
    "dt_n=st.shuffle(dt_n)\n",
    "dt_n=dt_n.reset_index(drop=True)\n",
    "dt_n.head()"
   ]
  },
  {
   "cell_type": "code",
   "execution_count": 28,
   "id": "8d0e3eb2-69ae-4a2b-820e-030ed1d583ec",
   "metadata": {},
   "outputs": [],
   "source": [
    "Y=dt_n['QScore']\n",
    "dt_nn=dt_n.drop(columns=['country','year','QScore','country_code'])\n",
    "from sklearn.model_selection import train_test_split\n",
    "tts=train_test_split\n",
    "x_train,x_test,y_train,y_test=tts(dt_nn,Y,test_size=0.3,random_state=0)\n",
    "from sklearn.preprocessing import LabelEncoder,MinMaxScaler\n",
    "enc=LabelEncoder()\n",
    "xtre=enc.fit_transform(x_train['record'])\n",
    "xtte=enc.transform(x_test['record'])\n",
    "x_train['record']=xtre\n",
    "x_test['record']=xtte\n",
    "import imblearn\n",
    "from imblearn.over_sampling import SMOTE\n",
    "smt=SMOTE(random_state=1)\n",
    "bal_x,bal_y=smt.fit_resample(x_train,y_train)\n",
    "mms=MinMaxScaler()\n",
    "\n",
    "drp_r=bal_x.drop(columns=['record'])\n",
    "drp_rt=x_test.drop(columns=['record'])\n",
    "\n",
    "xtr_n=mms.fit_transform(drp_r)\n",
    "xtt_n=mms.transform(drp_rt)\n",
    "\n",
    "xtr=pd.DataFrame(xtr_n,columns=drp_r.columns)\n",
    "xts=pd.DataFrame(xtt_n,columns=drp_rt.columns)\n",
    "\n",
    "xtr['record']=bal_x['record']\n",
    "xts['record']=x_test['record'].reset_index(drop=True)"
   ]
  },
  {
   "cell_type": "code",
   "execution_count": 29,
   "id": "0847e5bd-6fc8-4dda-a9b8-0eb724f2ffab",
   "metadata": {},
   "outputs": [
    {
     "data": {
      "text/plain": [
       "LogisticRegression()"
      ]
     },
     "execution_count": 29,
     "metadata": {},
     "output_type": "execute_result"
    }
   ],
   "source": [
    "from sklearn.linear_model import LogisticRegression\n",
    "lr=LogisticRegression()\n",
    "lr.fit(xtr,bal_y)"
   ]
  },
  {
   "cell_type": "code",
   "execution_count": 30,
   "id": "1530e343-78a5-4578-a1be-3f362fdfa674",
   "metadata": {},
   "outputs": [],
   "source": [
    "from sklearn.model_selection import cross_val_score,StratifiedKFold,LeaveOneOut\n",
    "cvs=cross_val_score\n",
    "loo=LeaveOneOut()\n",
    "scr=cvs(lr,xtr,bal_y,cv=5,scoring='f1_macro')\n",
    "sc1=cvs(lr,xtr,bal_y,cv=loo,scoring='f1_macro')"
   ]
  },
  {
   "cell_type": "code",
   "execution_count": 31,
   "id": "1ad0cb43-fbd1-4748-a31c-b2e5aeaedb68",
   "metadata": {},
   "outputs": [
    {
     "data": {
      "text/plain": [
       "0.4859001049032746"
      ]
     },
     "execution_count": 31,
     "metadata": {},
     "output_type": "execute_result"
    }
   ],
   "source": [
    "scr.mean()"
   ]
  },
  {
   "cell_type": "code",
   "execution_count": 32,
   "id": "137d42b8-cf8b-495a-be48-b10ff29cd30f",
   "metadata": {},
   "outputs": [
    {
     "data": {
      "text/plain": [
       "0.5348837209302325"
      ]
     },
     "execution_count": 32,
     "metadata": {},
     "output_type": "execute_result"
    }
   ],
   "source": [
    "sc1.mean()"
   ]
  },
  {
   "cell_type": "code",
   "execution_count": 33,
   "id": "0839471d-cfc8-44ab-b39f-ac11ab8dda50",
   "metadata": {},
   "outputs": [
    {
     "name": "stderr",
     "output_type": "stream",
     "text": [
      "C:\\Users\\akiny\\anaconda3\\lib\\site-packages\\sklearn\\base.py:493: FutureWarning: The feature names should match those that were passed during fit. Starting version 1.2, an error will be raised.\n",
      "Feature names must be in the same order as they were in fit.\n",
      "\n",
      "  warnings.warn(message, FutureWarning)\n"
     ]
    }
   ],
   "source": [
    "from sklearn.metrics import recall_score, accuracy_score, precision_score, f1_score,confusion_matrix\n",
    "import seaborn as sb\n",
    "cm=confusion_matrix\n",
    "pred=lr.predict(x_test)\n"
   ]
  },
  {
   "cell_type": "code",
   "execution_count": 34,
   "id": "a46b9a4b-7e68-442f-a733-351f2d5cfd2f",
   "metadata": {},
   "outputs": [
    {
     "data": {
      "text/plain": [
       "array([[ 0, 81],\n",
       "       [ 0, 92]], dtype=int64)"
      ]
     },
     "execution_count": 34,
     "metadata": {},
     "output_type": "execute_result"
    }
   ],
   "source": [
    "cm(y_test,pred)"
   ]
  },
  {
   "cell_type": "code",
   "execution_count": 35,
   "id": "e1db278e-6363-42e5-b114-4747b89813bd",
   "metadata": {},
   "outputs": [
    {
     "data": {
      "text/plain": [
       "<AxesSubplot:>"
      ]
     },
     "execution_count": 35,
     "metadata": {},
     "output_type": "execute_result"
    },
    {
     "data": {
      "image/png": "[encoded data removed]",
      "text/plain": [
       "<Figure size 640x480 with 2 Axes>"
      ]
     },
     "metadata": {},
     "output_type": "display_data"
    }
   ],
   "source": [
    "sb.heatmap(cm(y_test,pred),annot=True)"
   ]
  },
  {
   "cell_type": "code",
   "execution_count": 37,
   "id": "06c1c178-2165-4a93-b5c0-d1303cbfb39b",
   "metadata": {},
   "outputs": [],
   "source": [
    "from sklearn.tree import DecisionTreeClassifier\n",
    "dtc=DecisionTreeClassifier(random_state=1)"
   ]
  },
  {
   "cell_type": "code",
   "execution_count": 38,
   "id": "d48a9cc1-3923-4f16-8130-07c9c1843260",
   "metadata": {},
   "outputs": [
    {
     "data": {
      "text/plain": [
       "DecisionTreeClassifier(random_state=1)"
      ]
     },
     "execution_count": 38,
     "metadata": {},
     "output_type": "execute_result"
    }
   ],
   "source": [
    "dtc.fit(xtr,bal_y)"
   ]
  },
  {
   "cell_type": "code",
   "execution_count": 39,
   "id": "230bb93e-3957-4e78-8d71-b0ee6254e3a7",
   "metadata": {},
   "outputs": [
    {
     "data": {
      "text/plain": [
       "0.7674418604651163"
      ]
     },
     "execution_count": 39,
     "metadata": {},
     "output_type": "execute_result"
    }
   ],
   "source": [
    "dtc.score(xtr,bal_y)"
   ]
  },
  {
   "cell_type": "code",
   "execution_count": 41,
   "id": "0e03ac2a-a27b-4187-937c-9e86caddf444",
   "metadata": {},
   "outputs": [
    {
     "data": {
      "text/plain": [
       "0.5549132947976878"
      ]
     },
     "execution_count": 41,
     "metadata": {},
     "output_type": "execute_result"
    }
   ],
   "source": [
    "dtc.score(xts,y_test)"
   ]
  },
  {
   "cell_type": "code",
   "execution_count": 60,
   "id": "c9973354-3515-40da-890d-8e802d77aea3",
   "metadata": {},
   "outputs": [
    {
     "data": {
      "text/plain": [
       "XGBClassifier(base_score=None, booster=None, callbacks=None,\n",
       "              colsample_bylevel=None, colsample_bynode=None,\n",
       "              colsample_bytree=None, early_stopping_rounds=None,\n",
       "              enable_categorical=False, eval_metric=None, feature_types=None,\n",
       "              gamma=None, gpu_id=None, grow_policy=None, importance_type=None,\n",
       "              interaction_constraints=None, learning_rate=None, max_bin=None,\n",
       "              max_cat_threshold=None, max_cat_to_onehot=None,\n",
       "              max_delta_step=None, max_depth=None, max_leaves=None,\n",
       "              min_child_weight=None, missing=nan, monotone_constraints=None,\n",
       "              n_estimators=10, n_jobs=None, num_parallel_tree=None,\n",
       "              predictor=None, random_state=None, ...)"
      ]
     },
     "execution_count": 60,
     "metadata": {},
     "output_type": "execute_result"
    }
   ],
   "source": [
    "import xgboost as xgbt\n",
    "xgb=xgbt.XGBClassifier(n_estimators=10)\n",
    "enc_tr=enc.fit_transform(bal_y)\n",
    "enc_t=enc.transform(y_test)\n",
    "xgb.fit(xtr,enc_tr)"
   ]
  },
  {
   "cell_type": "code",
   "execution_count": 61,
   "id": "5f3506db-0b6b-4897-9dac-fd8bbad8d191",
   "metadata": {},
   "outputs": [
    {
     "data": {
      "text/plain": [
       "0.6820809248554913"
      ]
     },
     "execution_count": 61,
     "metadata": {},
     "output_type": "execute_result"
    }
   ],
   "source": [
    "xgb.score(xts,enc_t)\n",
    "#sb.heatmap(cm(enc_t,xgb.predict(xts)),annot=True)"
   ]
  },
  {
   "cell_type": "code",
   "execution_count": 62,
   "id": "1e762fbc-d805-4a9a-944b-95c876b030d8",
   "metadata": {},
   "outputs": [
    {
     "data": {
      "text/plain": [
       "<AxesSubplot:>"
      ]
     },
     "execution_count": 62,
     "metadata": {},
     "output_type": "execute_result"
    },
    {
     "data": {
      "image/png": "[encoded data removed]",
      "text/plain": [
       "<Figure size 640x480 with 2 Axes>"
      ]
     },
     "metadata": {},
     "output_type": "display_data"
    }
   ],
   "source": [
    "sb.heatmap(cm(enc_t,xgb.predict(xts)),annot=True)"
   ]
  },
  {
   "cell_type": "code",
   "execution_count": 64,
   "id": "48d0458f-7542-4182-a526-a245026066a5",
   "metadata": {},
   "outputs": [
    {
     "data": {
      "text/plain": [
       "0.9728682170542635"
      ]
     },
     "execution_count": 64,
     "metadata": {},
     "output_type": "execute_result"
    },
    {
     "data": {
      "image/png": "[encoded data removed]",
      "text/plain": [
       "<Figure size 640x480 with 2 Axes>"
      ]
     },
     "metadata": {},
     "output_type": "display_data"
    }
   ],
   "source": [
    "sb.heatmap(cm(enc_tr,xgb.predict(xtr)),annot=True)\n",
    "xgb.score(xtr,enc_tr)"
   ]
  },
  {
   "cell_type": "code",
   "execution_count": null,
   "id": "0682c4dc-897d-462d-a2f6-2cd8c87d993b",
   "metadata": {},
   "outputs": [],
   "source": []
  }
 ],
 "metadata": {
  "kernelspec": {
   "display_name": "Python 3 (ipykernel)",
   "language": "python",
   "name": "python3"
  },
  "language_info": {
   "codemirror_mode": {
    "name": "ipython",
    "version": 3
   },
   "file_extension": ".py",
   "mimetype": "text/x-python",
   "name": "python",
   "nbconvert_exporter": "python",
   "pygments_lexer": "ipython3",
   "version": "3.9.13"
  }
 },
 "nbformat": 4,
 "nbformat_minor": 5
}
